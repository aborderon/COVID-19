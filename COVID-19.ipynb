{
 "cells": [
  {
   "cell_type": "markdown",
   "metadata": {},
   "source": [
    "# Coronavirus (COVID-19) Visualization (Overall, China and France) based on Novel Coronavirus (COVID-19) Cases, provided by JHU CSSE\n",
    "\n",
    "Last update : 18/03/2020"
   ]
  },
  {
   "cell_type": "markdown",
   "metadata": {
    "ExecuteTime": {
     "end_time": "2020-03-09T19:50:55.925270Z",
     "start_time": "2020-03-09T19:50:55.919904Z"
    }
   },
   "source": [
    "Author : Adrien Borderon"
   ]
  },
  {
   "cell_type": "code",
   "execution_count": null,
   "metadata": {
    "ExecuteTime": {
     "start_time": "2020-03-18T17:33:59.607Z"
    }
   },
   "outputs": [],
   "source": [
    "# Importing libraries\n",
    "import pandas as pd\n",
    "import matplotlib.pyplot as plt\n",
    "import matplotlib as mpl\n",
    "import seaborn as sns"
   ]
  },
  {
   "cell_type": "code",
   "execution_count": null,
   "metadata": {
    "ExecuteTime": {
     "start_time": "2020-03-18T17:33:59.619Z"
    }
   },
   "outputs": [],
   "source": [
    "# Graphics settings\n",
    "plt.style.use('bmh')\n",
    "plt.rcParams['figure.figsize'] = [15, 8]\n",
    "plt.rcParams['font.size'] = 16\n",
    "mpl.rcParams['lines.linewidth'] = 4"
   ]
  },
  {
   "cell_type": "markdown",
   "metadata": {},
   "source": [
    "# Healed vs. Confirmed vs. Dead"
   ]
  },
  {
   "cell_type": "code",
   "execution_count": null,
   "metadata": {
    "ExecuteTime": {
     "start_time": "2020-03-18T17:33:59.630Z"
    }
   },
   "outputs": [],
   "source": [
    "df = pd.read_csv('data/03-17-2020.csv')\n",
    "df = df.drop(columns=['Last Update', 'Latitude', 'Longitude'])\n",
    "\n",
    "overall = df.agg(['sum'])"
   ]
  },
  {
   "cell_type": "code",
   "execution_count": null,
   "metadata": {
    "ExecuteTime": {
     "start_time": "2020-03-18T17:33:59.639Z"
    }
   },
   "outputs": [],
   "source": [
    "overall['infected'] = overall['Confirmed'] - overall['Recovered']"
   ]
  },
  {
   "cell_type": "markdown",
   "metadata": {},
   "source": [
    "## Finally plot a simple bar chart"
   ]
  },
  {
   "cell_type": "code",
   "execution_count": null,
   "metadata": {
    "ExecuteTime": {
     "start_time": "2020-03-18T17:33:59.651Z"
    }
   },
   "outputs": [],
   "source": [
    "ax = plt.gca()\n",
    "plt.xlabel('Confirmed vs. Infected vs. Dead')\n",
    "plt.ylabel('People')\n",
    "plt.bar(['Confirmed', 'Recovered','Infected', 'Dead'], [overall['Confirmed'][0],overall['Recovered'][0], overall['infected'][0],overall['Deaths'][0]], color=['tab:pink', 'tab:cyan', 'tab:olive', 'tab:gray'])\n",
    "plt.title('Overall Confirmed vs. Infected vs. Recovered vs. Dead')\n",
    "plt.show()"
   ]
  },
  {
   "cell_type": "markdown",
   "metadata": {},
   "source": [
    "# Covid-19: Confirmed"
   ]
  },
  {
   "cell_type": "markdown",
   "metadata": {},
   "source": [
    "## Get covid confirmed cases"
   ]
  },
  {
   "cell_type": "code",
   "execution_count": null,
   "metadata": {
    "ExecuteTime": {
     "start_time": "2020-03-18T17:33:59.663Z"
    }
   },
   "outputs": [],
   "source": [
    "df = pd.read_csv('data/time_series_19-covid-Confirmed.csv')\n",
    "df = df.drop(columns=['Lat', 'Long'])"
   ]
  },
  {
   "cell_type": "markdown",
   "metadata": {},
   "source": [
    "## Group by Countries"
   ]
  },
  {
   "cell_type": "code",
   "execution_count": null,
   "metadata": {
    "ExecuteTime": {
     "start_time": "2020-03-18T17:33:59.675Z"
    }
   },
   "outputs": [],
   "source": [
    "df_group = df.groupby(['Country/Region'])"
   ]
  },
  {
   "cell_type": "code",
   "execution_count": null,
   "metadata": {
    "ExecuteTime": {
     "start_time": "2020-03-18T17:33:59.684Z"
    }
   },
   "outputs": [],
   "source": [
    "france = df_group.get_group('France')\n",
    "china = df_group.get_group('China')\n",
    "italy = df_group.get_group('Italy')"
   ]
  },
  {
   "cell_type": "code",
   "execution_count": null,
   "metadata": {
    "ExecuteTime": {
     "start_time": "2020-03-18T17:33:59.693Z"
    }
   },
   "outputs": [],
   "source": [
    "overall = df.agg(['sum'])\n",
    "overall = overall.drop(columns=['Country/Region'])"
   ]
  },
  {
   "cell_type": "markdown",
   "metadata": {},
   "source": [
    "## Clean up and summarize China"
   ]
  },
  {
   "cell_type": "code",
   "execution_count": null,
   "metadata": {
    "ExecuteTime": {
     "start_time": "2020-03-18T17:33:59.704Z"
    }
   },
   "outputs": [],
   "source": [
    "china = china.agg(['sum'])\n",
    "china = china.drop(columns=['Province/State', 'Country/Region'])"
   ]
  },
  {
   "cell_type": "code",
   "execution_count": null,
   "metadata": {
    "ExecuteTime": {
     "start_time": "2020-03-18T17:33:59.713Z"
    }
   },
   "outputs": [],
   "source": [
    "china = china.T"
   ]
  },
  {
   "cell_type": "markdown",
   "metadata": {},
   "source": [
    "## Clean up and summarize France"
   ]
  },
  {
   "cell_type": "code",
   "execution_count": null,
   "metadata": {
    "ExecuteTime": {
     "start_time": "2020-03-18T17:33:59.724Z"
    }
   },
   "outputs": [],
   "source": [
    "france = france.agg(['sum'])\n",
    "france = france.drop(columns=['Province/State', 'Country/Region'])"
   ]
  },
  {
   "cell_type": "code",
   "execution_count": null,
   "metadata": {
    "ExecuteTime": {
     "start_time": "2020-03-18T17:33:59.734Z"
    }
   },
   "outputs": [],
   "source": [
    "france = france.T"
   ]
  },
  {
   "cell_type": "markdown",
   "metadata": {},
   "source": [
    "## Clean up and summarize Italiy"
   ]
  },
  {
   "cell_type": "code",
   "execution_count": null,
   "metadata": {
    "ExecuteTime": {
     "start_time": "2020-03-18T17:33:59.745Z"
    }
   },
   "outputs": [],
   "source": [
    "italy = italy.agg(['sum'])\n",
    "italy = italy.drop(columns=['Province/State', 'Country/Region'])"
   ]
  },
  {
   "cell_type": "code",
   "execution_count": null,
   "metadata": {
    "ExecuteTime": {
     "start_time": "2020-03-18T17:33:59.755Z"
    }
   },
   "outputs": [],
   "source": [
    "italy = italy.T"
   ]
  },
  {
   "cell_type": "markdown",
   "metadata": {},
   "source": [
    "## Transpose overall data"
   ]
  },
  {
   "cell_type": "code",
   "execution_count": null,
   "metadata": {
    "ExecuteTime": {
     "start_time": "2020-03-18T17:33:59.766Z"
    }
   },
   "outputs": [],
   "source": [
    "overall = overall.T"
   ]
  },
  {
   "cell_type": "markdown",
   "metadata": {},
   "source": [
    "## Plot China & France & Italy"
   ]
  },
  {
   "cell_type": "code",
   "execution_count": null,
   "metadata": {
    "ExecuteTime": {
     "start_time": "2020-03-18T17:33:59.777Z"
    }
   },
   "outputs": [],
   "source": [
    "ax = plt.gca()\n",
    "\n",
    "overall.plot(kind='line',y='sum',ax=ax, label=\"Overall\", color='black')\n",
    "china.plot(kind='line',y='sum',ax=ax, label=\"China\", color=\"green\")\n",
    "france.plot(kind='line',y='sum',ax=ax, color='blue', label=\"France\")\n",
    "italy.plot(kind='line',y='sum',ax=ax, color='red', label=\"Italy\")\n",
    "\n",
    "plt.xlabel('Date')\n",
    "plt.ylabel('Confirmed infections')\n",
    "plt.title('Confirmed COVID-19')\n",
    "plt.show()"
   ]
  },
  {
   "cell_type": "markdown",
   "metadata": {},
   "source": [
    "## Plot France vs Italy"
   ]
  },
  {
   "cell_type": "code",
   "execution_count": null,
   "metadata": {
    "ExecuteTime": {
     "start_time": "2020-03-18T17:33:59.789Z"
    }
   },
   "outputs": [],
   "source": [
    "ax = plt.gca()\n",
    "\n",
    "france.plot(kind='line',y='sum',ax=ax, color='blue', label=\"France\")\n",
    "italy.plot(kind='line',y='sum',ax=ax, color='red', label=\"Italy\")\n",
    "\n",
    "plt.xlabel('Date')\n",
    "plt.ylabel('Confirmed infections')\n",
    "plt.title('Confirmed COVID-19 for France vs Italy')\n",
    "plt.show()"
   ]
  },
  {
   "cell_type": "markdown",
   "metadata": {},
   "source": [
    "# Covid-19: Deaths"
   ]
  },
  {
   "cell_type": "markdown",
   "metadata": {},
   "source": [
    "## Get Data and clean up"
   ]
  },
  {
   "cell_type": "code",
   "execution_count": null,
   "metadata": {
    "ExecuteTime": {
     "start_time": "2020-03-18T17:33:59.801Z"
    }
   },
   "outputs": [],
   "source": [
    "df = pd.read_csv('data/time_series_19-covid-Deaths.csv')\n",
    "df = df.drop(columns=['Lat', 'Long'])"
   ]
  },
  {
   "cell_type": "markdown",
   "metadata": {},
   "source": [
    "## Group by Countries"
   ]
  },
  {
   "cell_type": "code",
   "execution_count": null,
   "metadata": {
    "ExecuteTime": {
     "start_time": "2020-03-18T17:33:59.812Z"
    }
   },
   "outputs": [],
   "source": [
    "df_group = df.groupby(['Country/Region'])"
   ]
  },
  {
   "cell_type": "code",
   "execution_count": null,
   "metadata": {
    "ExecuteTime": {
     "start_time": "2020-03-18T17:33:59.822Z"
    }
   },
   "outputs": [],
   "source": [
    "france = df_group.get_group('France')\n",
    "china = df_group.get_group('China')\n",
    "italy = df_group.get_group('Italy')"
   ]
  },
  {
   "cell_type": "code",
   "execution_count": null,
   "metadata": {
    "ExecuteTime": {
     "start_time": "2020-03-18T17:33:59.832Z"
    }
   },
   "outputs": [],
   "source": [
    "overall = df.agg(['sum'])\n",
    "overall = overall.drop(columns=['Country/Region'])"
   ]
  },
  {
   "cell_type": "markdown",
   "metadata": {},
   "source": [
    "## Clean up and summarize China"
   ]
  },
  {
   "cell_type": "code",
   "execution_count": null,
   "metadata": {
    "ExecuteTime": {
     "start_time": "2020-03-18T17:33:59.843Z"
    }
   },
   "outputs": [],
   "source": [
    "china = china.agg(['sum'])\n",
    "china = china.drop(columns=['Province/State', 'Country/Region'])"
   ]
  },
  {
   "cell_type": "code",
   "execution_count": null,
   "metadata": {
    "ExecuteTime": {
     "start_time": "2020-03-18T17:33:59.854Z"
    }
   },
   "outputs": [],
   "source": [
    "china = china.T"
   ]
  },
  {
   "cell_type": "markdown",
   "metadata": {},
   "source": [
    "## Clean up and summarize France"
   ]
  },
  {
   "cell_type": "code",
   "execution_count": null,
   "metadata": {
    "ExecuteTime": {
     "start_time": "2020-03-18T17:33:59.865Z"
    }
   },
   "outputs": [],
   "source": [
    "france = france.agg(['sum'])\n",
    "france = france.drop(columns=['Province/State', 'Country/Region'])"
   ]
  },
  {
   "cell_type": "code",
   "execution_count": null,
   "metadata": {
    "ExecuteTime": {
     "start_time": "2020-03-18T17:33:59.875Z"
    }
   },
   "outputs": [],
   "source": [
    "france = france.T"
   ]
  },
  {
   "cell_type": "markdown",
   "metadata": {},
   "source": [
    "## Clean up and summarize Italy"
   ]
  },
  {
   "cell_type": "code",
   "execution_count": null,
   "metadata": {
    "ExecuteTime": {
     "start_time": "2020-03-18T17:33:59.886Z"
    }
   },
   "outputs": [],
   "source": [
    "italy = italy.agg(['sum'])\n",
    "italy = italy.drop(columns=['Province/State', 'Country/Region'])"
   ]
  },
  {
   "cell_type": "code",
   "execution_count": null,
   "metadata": {
    "ExecuteTime": {
     "start_time": "2020-03-18T17:33:59.895Z"
    }
   },
   "outputs": [],
   "source": [
    "italy = italy.T"
   ]
  },
  {
   "cell_type": "markdown",
   "metadata": {},
   "source": [
    "## Transpose overall data"
   ]
  },
  {
   "cell_type": "code",
   "execution_count": null,
   "metadata": {
    "ExecuteTime": {
     "start_time": "2020-03-18T17:33:59.906Z"
    }
   },
   "outputs": [],
   "source": [
    "overall = overall.T"
   ]
  },
  {
   "cell_type": "markdown",
   "metadata": {},
   "source": [
    "## Plot China & France & Italy"
   ]
  },
  {
   "cell_type": "code",
   "execution_count": null,
   "metadata": {
    "ExecuteTime": {
     "start_time": "2020-03-18T17:33:59.918Z"
    },
    "scrolled": true
   },
   "outputs": [],
   "source": [
    "ax = plt.gca()\n",
    "\n",
    "overall.plot(kind='line',y='sum',ax=ax, label=\"Overall\", color='black')\n",
    "china.plot(kind='line',y='sum',ax=ax, label=\"China\", color=\"green\")\n",
    "france.plot(kind='line',y='sum',ax=ax, color='blue', label=\"France\")\n",
    "italy.plot(kind='line',y='sum',ax=ax, color='red', label=\"Italy\")\n",
    "\n",
    "plt.xlabel('Date')\n",
    "plt.ylabel('Deaths')\n",
    "plt.title('Deaths COVID-19')\n",
    "plt.show()"
   ]
  },
  {
   "cell_type": "markdown",
   "metadata": {},
   "source": [
    "## Plot China & Italy"
   ]
  },
  {
   "cell_type": "code",
   "execution_count": null,
   "metadata": {
    "ExecuteTime": {
     "start_time": "2020-03-18T17:33:59.929Z"
    },
    "scrolled": true
   },
   "outputs": [],
   "source": [
    "ax = plt.gca()\n",
    "\n",
    "china.plot(kind='line',y='sum',ax=ax, label=\"China\", color=\"green\")\n",
    "italy.plot(kind='line',y='sum',ax=ax, color='red', label=\"Italy\")\n",
    "\n",
    "plt.xlabel('Date')\n",
    "plt.ylabel('Deaths')\n",
    "plt.title('Deaths COVID-19 China vs Italy')\n",
    "plt.show()"
   ]
  },
  {
   "cell_type": "markdown",
   "metadata": {},
   "source": [
    "## Plot France vs Italy"
   ]
  },
  {
   "cell_type": "code",
   "execution_count": null,
   "metadata": {
    "ExecuteTime": {
     "start_time": "2020-03-18T17:33:59.942Z"
    },
    "scrolled": true
   },
   "outputs": [],
   "source": [
    "ax = plt.gca()\n",
    "\n",
    "france.plot(kind='line',y='sum',ax=ax, color='blue', label=\"France\")\n",
    "italy.plot(kind='line',y='sum',ax=ax, color='red', label=\"Italy\")\n",
    "\n",
    "plt.xlabel('Date')\n",
    "plt.ylabel('Deaths')\n",
    "plt.title('Deaths COVID-19 France vs Italy')\n",
    "plt.show()"
   ]
  },
  {
   "cell_type": "markdown",
   "metadata": {},
   "source": [
    "## Plot France"
   ]
  },
  {
   "cell_type": "code",
   "execution_count": null,
   "metadata": {
    "ExecuteTime": {
     "start_time": "2020-03-18T17:33:59.953Z"
    },
    "scrolled": true
   },
   "outputs": [],
   "source": [
    "ax = plt.gca()\n",
    "\n",
    "france.plot(kind='line',y='sum',ax=ax, color='blue', label=\"France\")\n",
    "\n",
    "plt.xlabel('Date')\n",
    "plt.ylabel('Deaths')\n",
    "plt.title('Deaths COVID-19 for France')\n",
    "plt.show()"
   ]
  },
  {
   "cell_type": "code",
   "execution_count": null,
   "metadata": {
    "ExecuteTime": {
     "start_time": "2020-03-18T17:33:59.963Z"
    }
   },
   "outputs": [],
   "source": [
    "confirmed_cn = pd.read_csv('data/confirmed_china.csv')"
   ]
  },
  {
   "cell_type": "code",
   "execution_count": null,
   "metadata": {
    "ExecuteTime": {
     "start_time": "2020-03-18T17:33:59.973Z"
    }
   },
   "outputs": [],
   "source": [
    "ax = plt.gca()\n",
    "\n",
    "china.plot(kind='line',y='sum',ax=ax, label=\"Deaths\", color=\"green\")\n",
    "confirmed_cn.plot(kind='line',y='sum',ax=ax, color='red', label=\"Confirmed\")\n",
    "\n",
    "plt.xlabel('Date')\n",
    "plt.ylabel('Deaths')\n",
    "plt.title('Confirmed and deaths - COVID-19 in China')\n",
    "plt.show()"
   ]
  },
  {
   "cell_type": "code",
   "execution_count": null,
   "metadata": {
    "ExecuteTime": {
     "start_time": "2020-03-18T17:33:59.982Z"
    }
   },
   "outputs": [],
   "source": [
    "ax = plt.gca()\n",
    "\n",
    "china.plot(kind='line',y='sum',ax=ax, label=\"Deaths\", color=\"green\")\n",
    "\n",
    "plt.xlabel('Date')\n",
    "plt.ylabel('Deaths')\n",
    "plt.title('Confirmed and deaths - COVID-19 in China')\n",
    "plt.show()"
   ]
  },
  {
   "cell_type": "markdown",
   "metadata": {},
   "source": [
    "## Plot Overall Confirmed / Deaths"
   ]
  },
  {
   "cell_type": "code",
   "execution_count": null,
   "metadata": {
    "ExecuteTime": {
     "start_time": "2020-03-18T17:33:59.993Z"
    }
   },
   "outputs": [],
   "source": [
    "confirmed_overall = pd.read_csv('data/confirmed_overall.csv')"
   ]
  },
  {
   "cell_type": "code",
   "execution_count": null,
   "metadata": {
    "ExecuteTime": {
     "start_time": "2020-03-18T17:34:00.001Z"
    }
   },
   "outputs": [],
   "source": [
    "ax = plt.gca()\n",
    "\n",
    "overall.plot(kind='line',y='sum',ax=ax, label=\"Deaths\", color=\"green\")\n",
    "confirmed_overall.plot(kind='line',y='sum',ax=ax, color='red', label=\"Confirmed\")\n",
    "\n",
    "plt.xlabel('Date')\n",
    "plt.ylabel('Deaths')\n",
    "plt.title('Confirmed and deaths - COVID-19 Worldwide')\n",
    "plt.show()"
   ]
  },
  {
   "cell_type": "markdown",
   "metadata": {},
   "source": [
    "# Covid-19: Recovered"
   ]
  },
  {
   "cell_type": "markdown",
   "metadata": {},
   "source": [
    "## Get Data and clean up\n",
    "Removing Lat&Long. Not needed."
   ]
  },
  {
   "cell_type": "code",
   "execution_count": null,
   "metadata": {
    "ExecuteTime": {
     "start_time": "2020-03-18T17:34:00.012Z"
    }
   },
   "outputs": [],
   "source": [
    "df = pd.read_csv('data/time_series_19-covid-Recovered.csv')\n",
    "df = df.drop(columns=['Lat', 'Long'])"
   ]
  },
  {
   "cell_type": "markdown",
   "metadata": {},
   "source": [
    "## Group by Countries"
   ]
  },
  {
   "cell_type": "code",
   "execution_count": null,
   "metadata": {
    "ExecuteTime": {
     "start_time": "2020-03-18T17:34:00.022Z"
    }
   },
   "outputs": [],
   "source": [
    "df_group = df.groupby(['Country/Region'])"
   ]
  },
  {
   "cell_type": "code",
   "execution_count": null,
   "metadata": {
    "ExecuteTime": {
     "start_time": "2020-03-18T17:34:00.029Z"
    }
   },
   "outputs": [],
   "source": [
    "france = df_group.get_group('France')\n",
    "china = df_group.get_group('China')\n",
    "italy = df_group.get_group('Italy')"
   ]
  },
  {
   "cell_type": "code",
   "execution_count": null,
   "metadata": {
    "ExecuteTime": {
     "start_time": "2020-03-18T17:34:00.037Z"
    }
   },
   "outputs": [],
   "source": [
    "overall = df.agg(['sum'])\n",
    "overall = overall.drop(columns=['Country/Region'])"
   ]
  },
  {
   "cell_type": "markdown",
   "metadata": {},
   "source": [
    "## Clean up and summarize China"
   ]
  },
  {
   "cell_type": "code",
   "execution_count": null,
   "metadata": {
    "ExecuteTime": {
     "start_time": "2020-03-18T17:34:00.048Z"
    }
   },
   "outputs": [],
   "source": [
    "china = china.agg(['sum'])\n",
    "china = china.drop(columns=['Province/State', 'Country/Region'])"
   ]
  },
  {
   "cell_type": "code",
   "execution_count": null,
   "metadata": {
    "ExecuteTime": {
     "start_time": "2020-03-18T17:34:00.056Z"
    }
   },
   "outputs": [],
   "source": [
    "china = china.T"
   ]
  },
  {
   "cell_type": "markdown",
   "metadata": {},
   "source": [
    "## Clean up and summarize France"
   ]
  },
  {
   "cell_type": "code",
   "execution_count": null,
   "metadata": {
    "ExecuteTime": {
     "start_time": "2020-03-18T17:34:00.064Z"
    }
   },
   "outputs": [],
   "source": [
    "france = france.agg(['sum'])\n",
    "france = france.drop(columns=['Province/State', 'Country/Region'])"
   ]
  },
  {
   "cell_type": "code",
   "execution_count": null,
   "metadata": {
    "ExecuteTime": {
     "start_time": "2020-03-18T17:34:00.074Z"
    }
   },
   "outputs": [],
   "source": [
    "france = france.T"
   ]
  },
  {
   "cell_type": "markdown",
   "metadata": {},
   "source": [
    "## Clean up and summarize Italy"
   ]
  },
  {
   "cell_type": "code",
   "execution_count": null,
   "metadata": {
    "ExecuteTime": {
     "start_time": "2020-03-18T17:34:00.082Z"
    }
   },
   "outputs": [],
   "source": [
    "italy = italy.agg(['sum'])\n",
    "italy = italy.drop(columns=['Province/State', 'Country/Region'])"
   ]
  },
  {
   "cell_type": "code",
   "execution_count": null,
   "metadata": {
    "ExecuteTime": {
     "start_time": "2020-03-18T17:34:00.090Z"
    }
   },
   "outputs": [],
   "source": [
    "italy = italy.T"
   ]
  },
  {
   "cell_type": "markdown",
   "metadata": {},
   "source": [
    "## Transpose overall data"
   ]
  },
  {
   "cell_type": "code",
   "execution_count": null,
   "metadata": {
    "ExecuteTime": {
     "start_time": "2020-03-18T17:34:00.100Z"
    }
   },
   "outputs": [],
   "source": [
    "overall = overall.T"
   ]
  },
  {
   "cell_type": "markdown",
   "metadata": {},
   "source": [
    "## Plot China & France & Italy"
   ]
  },
  {
   "cell_type": "code",
   "execution_count": null,
   "metadata": {
    "ExecuteTime": {
     "start_time": "2020-03-18T17:34:00.110Z"
    }
   },
   "outputs": [],
   "source": [
    "ax = plt.gca()\n",
    "\n",
    "overall.plot(kind='line',y='sum',ax=ax, label=\"Overall\", color='black')\n",
    "china.plot(kind='line',y='sum',ax=ax, label=\"China\", color=\"green\")\n",
    "france.plot(kind='line',y='sum',ax=ax, color='blue', label=\"France\")\n",
    "italy.plot(kind='line',y='sum',ax=ax, color='red', label=\"Italy\")\n",
    "\n",
    "plt.xlabel('Date')\n",
    "plt.ylabel('Recovered')\n",
    "plt.title('Recovered from COVID-19')\n",
    "plt.show()"
   ]
  },
  {
   "cell_type": "markdown",
   "metadata": {},
   "source": [
    "## Plot France vs Italy"
   ]
  },
  {
   "cell_type": "code",
   "execution_count": null,
   "metadata": {
    "ExecuteTime": {
     "start_time": "2020-03-18T17:34:00.119Z"
    }
   },
   "outputs": [],
   "source": [
    "ax = plt.gca()\n",
    "\n",
    "france.plot(kind='line',y='sum',ax=ax, color='blue', label=\"France\")\n",
    "italy.plot(kind='line',y='sum',ax=ax, color='red', label=\"Italy\")\n",
    "\n",
    "plt.xlabel('Date')\n",
    "plt.ylabel('Recovered')\n",
    "plt.title('Recovered from COVID-19 for France vs Italy')\n",
    "plt.show()"
   ]
  },
  {
   "cell_type": "markdown",
   "metadata": {},
   "source": [
    "## Plot France vs only"
   ]
  },
  {
   "cell_type": "code",
   "execution_count": null,
   "metadata": {
    "ExecuteTime": {
     "start_time": "2020-03-18T17:34:00.130Z"
    }
   },
   "outputs": [],
   "source": [
    "ax = plt.gca()\n",
    "\n",
    "france.plot(kind='line',y='sum',ax=ax, color='blue', label=\"France\")\n",
    "\n",
    "plt.xlabel('Date')\n",
    "plt.ylabel('Recovered')\n",
    "plt.title('Recovered from COVID-19 for France')\n",
    "plt.show()"
   ]
  },
  {
   "cell_type": "markdown",
   "metadata": {},
   "source": [
    "## Plot Confirmed / Deaths China"
   ]
  },
  {
   "cell_type": "code",
   "execution_count": null,
   "metadata": {
    "ExecuteTime": {
     "start_time": "2020-03-18T17:34:00.139Z"
    }
   },
   "outputs": [],
   "source": [
    "confirmed_cn = pd.read_csv('data/confirmed_china.csv')"
   ]
  },
  {
   "cell_type": "code",
   "execution_count": null,
   "metadata": {
    "ExecuteTime": {
     "start_time": "2020-03-18T17:34:00.147Z"
    }
   },
   "outputs": [],
   "source": [
    "ax = plt.gca()\n",
    "\n",
    "china.plot(kind='line',y='sum',ax=ax, label=\"Recovered\", color=\"green\")\n",
    "confirmed_cn.plot(kind='line',y='sum',ax=ax, color='red', label=\"Confirmed\")\n",
    "\n",
    "plt.xlabel('Date')\n",
    "plt.ylabel('Recovered/Confirmed')\n",
    "plt.title('Confirmed and Recovered - COVID-19 in China')\n",
    "plt.show()"
   ]
  },
  {
   "cell_type": "code",
   "execution_count": null,
   "metadata": {
    "ExecuteTime": {
     "start_time": "2020-03-18T17:34:00.156Z"
    }
   },
   "outputs": [],
   "source": [
    "ax = plt.gca()\n",
    "\n",
    "china.plot(kind='line',y='sum',ax=ax, label=\"Deaths\", color=\"green\")\n",
    "\n",
    "plt.xlabel('Date')\n",
    "plt.ylabel('Deaths')\n",
    "plt.title('Recovered - COVID-19 in China')\n",
    "plt.show()"
   ]
  },
  {
   "cell_type": "markdown",
   "metadata": {},
   "source": [
    "## Plot Overall Confirmed / Recovered"
   ]
  },
  {
   "cell_type": "code",
   "execution_count": null,
   "metadata": {
    "ExecuteTime": {
     "start_time": "2020-03-18T17:34:00.168Z"
    }
   },
   "outputs": [],
   "source": [
    "confirmed_overall = pd.read_csv('data/confirmed_overall.csv')\n",
    "confirmed_overall['healed'] = confirmed_overall['sum'] - overall['sum']"
   ]
  },
  {
   "cell_type": "code",
   "execution_count": null,
   "metadata": {
    "ExecuteTime": {
     "start_time": "2020-03-18T17:34:00.176Z"
    }
   },
   "outputs": [],
   "source": [
    "ax = plt.gca()\n",
    "\n",
    "overall.plot(kind='line',y='sum',ax=ax, label=\"Recovered\", color=\"green\")\n",
    "confirmed_overall.plot(kind='line',y='sum',ax=ax, color='red', label=\"Confirmed\")\n",
    "\n",
    "plt.xlabel('Date')\n",
    "plt.ylabel('Recovered')\n",
    "plt.title('Confirmed and recovered - COVID-19 Worldwide')\n",
    "plt.show()"
   ]
  },
  {
   "cell_type": "markdown",
   "metadata": {},
   "source": [
    "# Covid-19: Confirmed"
   ]
  },
  {
   "cell_type": "markdown",
   "metadata": {},
   "source": [
    "## Get Data and clean up"
   ]
  },
  {
   "cell_type": "code",
   "execution_count": null,
   "metadata": {
    "ExecuteTime": {
     "start_time": "2020-03-18T17:34:00.185Z"
    }
   },
   "outputs": [],
   "source": [
    "df = pd.read_csv('data/time_series_19-covid-Confirmed.csv')\n",
    "df = df.drop(columns=['Lat', 'Long'])\n",
    "population_china = 1400050000\n",
    "population_france = 66990000 \n",
    "population_italy = 60400000 \n",
    "population_overall = 7418000000"
   ]
  },
  {
   "cell_type": "markdown",
   "metadata": {},
   "source": [
    "## Group by Countries"
   ]
  },
  {
   "cell_type": "code",
   "execution_count": null,
   "metadata": {
    "ExecuteTime": {
     "start_time": "2020-03-18T17:34:00.194Z"
    }
   },
   "outputs": [],
   "source": [
    "df_group = df.groupby(['Country/Region'])"
   ]
  },
  {
   "cell_type": "code",
   "execution_count": null,
   "metadata": {
    "ExecuteTime": {
     "start_time": "2020-03-18T17:34:00.201Z"
    }
   },
   "outputs": [],
   "source": [
    "france = df_group.get_group('France')\n",
    "china = df_group.get_group('China')\n",
    "italy = df_group.get_group('Italy')"
   ]
  },
  {
   "cell_type": "code",
   "execution_count": null,
   "metadata": {
    "ExecuteTime": {
     "start_time": "2020-03-18T17:34:00.210Z"
    }
   },
   "outputs": [],
   "source": [
    "overall = df.agg(['sum'])\n",
    "overall = overall.drop(columns=['Country/Region'])"
   ]
  },
  {
   "cell_type": "markdown",
   "metadata": {},
   "source": [
    "## Clean up and summarize China"
   ]
  },
  {
   "cell_type": "code",
   "execution_count": null,
   "metadata": {
    "ExecuteTime": {
     "start_time": "2020-03-18T17:34:00.218Z"
    }
   },
   "outputs": [],
   "source": [
    "china = china.agg(['sum'])\n",
    "china = china.drop(columns=['Province/State', 'Country/Region'])"
   ]
  },
  {
   "cell_type": "code",
   "execution_count": null,
   "metadata": {
    "ExecuteTime": {
     "start_time": "2020-03-18T17:34:00.225Z"
    }
   },
   "outputs": [],
   "source": [
    "china = china.T"
   ]
  },
  {
   "cell_type": "code",
   "execution_count": null,
   "metadata": {
    "ExecuteTime": {
     "start_time": "2020-03-18T17:34:00.232Z"
    }
   },
   "outputs": [],
   "source": [
    "china['related'] = (100/population_china) * china['sum']"
   ]
  },
  {
   "cell_type": "markdown",
   "metadata": {},
   "source": [
    "## Clean up and summarize France"
   ]
  },
  {
   "cell_type": "code",
   "execution_count": null,
   "metadata": {
    "ExecuteTime": {
     "start_time": "2020-03-18T17:34:00.241Z"
    }
   },
   "outputs": [],
   "source": [
    "france = france.agg(['sum'])\n",
    "france = france.drop(columns=['Province/State', 'Country/Region'])"
   ]
  },
  {
   "cell_type": "code",
   "execution_count": null,
   "metadata": {
    "ExecuteTime": {
     "start_time": "2020-03-18T17:34:00.248Z"
    }
   },
   "outputs": [],
   "source": [
    "france = france.T\n",
    "france['related'] = (100/population_france) * france['sum']"
   ]
  },
  {
   "cell_type": "markdown",
   "metadata": {},
   "source": [
    "## Clean up and summarize Italy"
   ]
  },
  {
   "cell_type": "code",
   "execution_count": null,
   "metadata": {
    "ExecuteTime": {
     "start_time": "2020-03-18T17:34:00.256Z"
    }
   },
   "outputs": [],
   "source": [
    "italy = italy.agg(['sum'])\n",
    "italy = italy.drop(columns=['Province/State', 'Country/Region'])"
   ]
  },
  {
   "cell_type": "code",
   "execution_count": null,
   "metadata": {
    "ExecuteTime": {
     "start_time": "2020-03-18T17:34:00.263Z"
    }
   },
   "outputs": [],
   "source": [
    "italy = italy.T\n",
    "italy['related'] = (100/population_italy) * italy['sum']"
   ]
  },
  {
   "cell_type": "markdown",
   "metadata": {},
   "source": [
    "## Transpose overall data"
   ]
  },
  {
   "cell_type": "code",
   "execution_count": null,
   "metadata": {
    "ExecuteTime": {
     "start_time": "2020-03-18T17:34:00.274Z"
    }
   },
   "outputs": [],
   "source": [
    "overall = overall.T\n",
    "overall['related'] = (100/population_overall) * overall['sum']"
   ]
  },
  {
   "cell_type": "markdown",
   "metadata": {},
   "source": [
    "## Plot China & France"
   ]
  },
  {
   "cell_type": "code",
   "execution_count": null,
   "metadata": {
    "ExecuteTime": {
     "start_time": "2020-03-18T17:34:00.283Z"
    }
   },
   "outputs": [],
   "source": [
    "ax = plt.gca()\n",
    "\n",
    "overall.plot(kind='line',y='related',ax=ax, label=\"Overall\", color='black')\n",
    "china.plot(kind='line',y='related',ax=ax, label=\"China\", color=\"green\")\n",
    "france.plot(kind='line',y='related',ax=ax, color='blue', label=\"France\")\n",
    "italy.plot(kind='line',y='related',ax=ax, color='red', label=\"Italy\")\n",
    "\n",
    "plt.xlabel('Date')\n",
    "plt.ylabel('Confirmed infections')\n",
    "plt.title('Confirmed COVID-19 - Related to population')\n",
    "plt.show()"
   ]
  }
 ],
 "metadata": {
  "kernelspec": {
   "display_name": "Python 3",
   "language": "python",
   "name": "python3"
  },
  "language_info": {
   "codemirror_mode": {
    "name": "ipython",
    "version": 3
   },
   "file_extension": ".py",
   "mimetype": "text/x-python",
   "name": "python",
   "nbconvert_exporter": "python",
   "pygments_lexer": "ipython3",
   "version": "3.7.4"
  },
  "toc": {
   "base_numbering": 1,
   "nav_menu": {},
   "number_sections": true,
   "sideBar": true,
   "skip_h1_title": false,
   "title_cell": "Table of Contents",
   "title_sidebar": "Contents",
   "toc_cell": false,
   "toc_position": {},
   "toc_section_display": true,
   "toc_window_display": false
  },
  "varInspector": {
   "cols": {
    "lenName": 16,
    "lenType": 16,
    "lenVar": 40
   },
   "kernels_config": {
    "python": {
     "delete_cmd_postfix": "",
     "delete_cmd_prefix": "del ",
     "library": "var_list.py",
     "varRefreshCmd": "print(var_dic_list())"
    },
    "r": {
     "delete_cmd_postfix": ") ",
     "delete_cmd_prefix": "rm(",
     "library": "var_list.r",
     "varRefreshCmd": "cat(var_dic_list()) "
    }
   },
   "types_to_exclude": [
    "module",
    "function",
    "builtin_function_or_method",
    "instance",
    "_Feature"
   ],
   "window_display": false
  }
 },
 "nbformat": 4,
 "nbformat_minor": 2
}
